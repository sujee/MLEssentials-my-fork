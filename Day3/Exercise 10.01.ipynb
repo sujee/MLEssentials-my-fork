{
 "cells": [
  {
   "cell_type": "markdown",
   "id": "142a797e",
   "metadata": {},
   "source": [
    "### Exercise 10.01"
   ]
  },
  {
   "cell_type": "markdown",
   "id": "f86ff3ae",
   "metadata": {},
   "source": [
    "Exploring the Cristiano Ronaldo Dataset with Descriptive Statistics"
   ]
  },
  {
   "cell_type": "markdown",
   "id": "d75a3e4d",
   "metadata": {},
   "source": [
    "Import the packages"
   ]
  },
  {
   "cell_type": "code",
   "execution_count": null,
   "id": "87e951b3",
   "metadata": {},
   "outputs": [],
   "source": [
    "import pandas as pd"
   ]
  },
  {
   "cell_type": "markdown",
   "id": "b585f46c",
   "metadata": {},
   "source": [
    "Loading the dataset"
   ]
  },
  {
   "cell_type": "code",
   "execution_count": null,
   "id": "c15c901f",
   "metadata": {},
   "outputs": [],
   "source": [
    "df = pd.read_csv(\"yds_data.csv\", index_col=0)\n",
    "\n",
    "df.head()"
   ]
  },
  {
   "cell_type": "markdown",
   "id": "dc889fc5",
   "metadata": {},
   "source": [
    "Checking the shape of the dataset"
   ]
  },
  {
   "cell_type": "code",
   "execution_count": null,
   "id": "d27f4e95",
   "metadata": {},
   "outputs": [],
   "source": [
    "df.shape"
   ]
  },
  {
   "cell_type": "markdown",
   "id": "ef39ef68",
   "metadata": {},
   "source": [
    "print the column names using columns attribute from the pandas package"
   ]
  },
  {
   "cell_type": "code",
   "execution_count": null,
   "id": "bebae4ef",
   "metadata": {},
   "outputs": [],
   "source": [
    "df.columns"
   ]
  },
  {
   "cell_type": "markdown",
   "id": "9287f4c5",
   "metadata": {},
   "source": [
    "print out the type of each variable contained in this Dataframe using the dtypes atribute from the pandas package"
   ]
  },
  {
   "cell_type": "code",
   "execution_count": null,
   "id": "df9f9117",
   "metadata": {},
   "outputs": [],
   "source": [
    "df.dtypes"
   ]
  },
  {
   "cell_type": "markdown",
   "id": "a73f5a97",
   "metadata": {},
   "source": [
    "Display the top rows of the dataframe using the head() method from pandas"
   ]
  },
  {
   "cell_type": "code",
   "execution_count": null,
   "id": "aff6dbe6",
   "metadata": {},
   "outputs": [],
   "source": [
    "df.head()"
   ]
  },
  {
   "cell_type": "markdown",
   "id": "f69f3949",
   "metadata": {},
   "source": [
    "Display the last five rows of the dataframe using the tail() method from pandas"
   ]
  },
  {
   "cell_type": "code",
   "execution_count": null,
   "id": "cf15191f",
   "metadata": {},
   "outputs": [],
   "source": [
    "df.tail()"
   ]
  },
  {
   "cell_type": "markdown",
   "id": "1c23b134",
   "metadata": {},
   "source": [
    "Now, display 5 random smapled rows of the DataFrame using the sample() method from pandas and pass it a random_state of 8"
   ]
  },
  {
   "cell_type": "code",
   "execution_count": null,
   "id": "610c039f",
   "metadata": {},
   "outputs": [],
   "source": [
    "df.sample(n=5, random_state=8)"
   ]
  }
 ],
 "metadata": {
  "kernelspec": {
   "display_name": "Python 3 (ipykernel)",
   "language": "python",
   "name": "python3"
  },
  "language_info": {
   "codemirror_mode": {
    "name": "ipython",
    "version": 3
   },
   "file_extension": ".py",
   "mimetype": "text/x-python",
   "name": "python",
   "nbconvert_exporter": "python",
   "pygments_lexer": "ipython3",
   "version": "3.8.11"
  }
 },
 "nbformat": 4,
 "nbformat_minor": 5
}
